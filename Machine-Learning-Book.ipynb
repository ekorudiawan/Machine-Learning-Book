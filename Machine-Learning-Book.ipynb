{
 "cells": [
  {
   "cell_type": "markdown",
   "metadata": {},
   "source": [
    "# Linear Regression"
   ]
  },
  {
   "cell_type": "markdown",
   "metadata": {},
   "source": [
    "## Univariate Linear Regression"
   ]
  },
  {
   "cell_type": "code",
   "execution_count": 1,
   "metadata": {},
   "outputs": [],
   "source": [
    "import os\n",
    "import pandas as pd\n",
    "import numpy as np\n",
    "import matplotlib.pyplot as plt"
   ]
  },
  {
   "cell_type": "code",
   "execution_count": 2,
   "metadata": {},
   "outputs": [],
   "source": [
    "def initializeParameter(n):\n",
    "    W = np.zeros((n,1), dtype=float)\n",
    "    b = np.zeros((1,1), dtype=float)\n",
    "    return W, b"
   ]
  },
  {
   "cell_type": "code",
   "execution_count": 3,
   "metadata": {},
   "outputs": [],
   "source": [
    "def predict(X, W, b):\n",
    "    y_hat = np.dot(X, W) + b\n",
    "    return y_hat"
   ]
  },
  {
   "cell_type": "code",
   "execution_count": 4,
   "metadata": {},
   "outputs": [],
   "source": [
    "def computeCost(X, y, W, b):\n",
    "    y_hat = predict(X, W, b)\n",
    "    cost = (1/(2*m)) * np.sum(np.power(y_hat - y, 2))\n",
    "    return cost"
   ]
  },
  {
   "cell_type": "code",
   "execution_count": 5,
   "metadata": {},
   "outputs": [],
   "source": [
    "def gradientDescentUni(X, y, w, b, learning_rate, iterations):\n",
    "    m, _ = y.shape\n",
    "    costHistory = np.zeros((iterations), dtype=float)\n",
    "    for i in range(0, iterations):\n",
    "        y_hat = predict(X, w, b)\n",
    "        cost = computeCost(X, y, w, b)\n",
    "        dw = (1/m) * np.sum((y_hat - y) * X)\n",
    "        db = (1/m) * np.sum((y_hat - y))\n",
    "        w = w - learning_rate * dw\n",
    "        b = b - learning_rate * db\n",
    "        costHistory[i] = cost        \n",
    "    return w, b, costHistory"
   ]
  },
  {
   "cell_type": "code",
   "execution_count": 6,
   "metadata": {},
   "outputs": [
    {
     "name": "stdout",
     "output_type": "stream",
     "text": [
      "Best parameter : W =  [[1.16636235]] b =  [[-3.63029144]]\n"
     ]
    },
    {
     "name": "stderr",
     "output_type": "stream",
     "text": [
      "C:\\Users\\ekoru\\Anaconda3\\lib\\site-packages\\ipykernel_launcher.py:5: FutureWarning: Method .as_matrix will be removed in a future version. Use .values instead.\n",
      "  \"\"\"\n"
     ]
    },
    {
     "data": {
      "text/plain": [
       "[<matplotlib.lines.Line2D at 0x13542794668>]"
      ]
     },
     "execution_count": 6,
     "metadata": {},
     "output_type": "execute_result"
    },
    {
     "data": {
      "image/png": "[encoded data removed]",
      "text/plain": [
       "<Figure size 432x288 with 1 Axes>"
      ]
     },
     "metadata": {},
     "output_type": "display_data"
    },
    {
     "data": {
      "image/png": "[encoded data removed]",
      "text/plain": [
       "<Figure size 432x288 with 1 Axes>"
      ]
     },
     "metadata": {},
     "output_type": "display_data"
    }
   ],
   "source": [
    "# Load dataset\n",
    "path = os.getcwd()\n",
    "data = pd.read_csv(path + \"/Dataset/ex1data1.txt\", sep=\",\", header=None)\n",
    "data.columns = [\"x\", \"y\"]\n",
    "dataset = data.as_matrix(columns=None)\n",
    "\n",
    "# Get number of dataset\n",
    "m, column = dataset.shape\n",
    "n = column - 1\n",
    "\n",
    "# Get input x\n",
    "X = np.zeros((m,1), dtype=float)\n",
    "X[:,0] = dataset[:,0]\n",
    "\n",
    "# Get input y\n",
    "y = np.zeros((m,1), dtype=float)\n",
    "y[:,0] = dataset[:,1]\n",
    "\n",
    "# Plot data using matplotlib\n",
    "fig = plt.figure()\n",
    "plt.plot(X, y, 'ro')\n",
    "\n",
    "w, b = initializeParameter(n)\n",
    "cost = computeCost(X, y, w, b)\n",
    "\n",
    "iterations = 1500\n",
    "learning_rate = 0.01\n",
    "\n",
    "w, b, costHistory = gradientDescentUni(X, y, w, b, learning_rate, iterations)\n",
    "\n",
    "print(\"Best parameter : W = \", w, \"b = \", b)\n",
    "\n",
    "y_hat = predict(X, w, b)\n",
    "\n",
    "plt.plot(X, y_hat)\n",
    "\n",
    "fig2 = plt.figure()\n",
    "plt.plot(np.arange(iterations), costHistory)\n"
   ]
  },
  {
   "cell_type": "markdown",
   "metadata": {},
   "source": [
    "## Multivariate Linear Regression"
   ]
  },
  {
   "cell_type": "code",
   "execution_count": 7,
   "metadata": {},
   "outputs": [],
   "source": [
    "def featureNormalize(X, n):\n",
    "    X_norm = X;\n",
    "    mu = np.zeros((1,n), dtype=float)\n",
    "    sigma = np.zeros((1,n), dtype=float)\n",
    "    mu = np.mean(X, axis=0)\n",
    "    sigma = np.max(X, axis=0) - np.min(X, axis=0)\n",
    "    X_norm = (X - mu) / sigma\n",
    "    return X_norm, mu, sigma"
   ]
  },
  {
   "cell_type": "code",
   "execution_count": 8,
   "metadata": {},
   "outputs": [],
   "source": [
    "def gradientDescentMulti(X, y, W, b, learning_rate, iterations):\n",
    "    m, _ = y.shape\n",
    "    costHistory = np.zeros((iterations), dtype=float)\n",
    "    dW = np.zeros(W.shape)\n",
    "    dWsize, _ = W.shape\n",
    "    XSliced = np.zeros((m,1), dtype=float)\n",
    "    for i in range(0, iterations):\n",
    "        y_hat = predict(X, W, b)\n",
    "        cost = computeCost(X, y, W, b)\n",
    "        for j in range(0, dWsize):\n",
    "            XSliced[:,0] = X[:,j]          \n",
    "            dW[j,0] = (1/m) * np.dot((y_hat - y).T, XSliced)\n",
    "            W[j,0] = W[j,0] - learning_rate * dW[j,0]\n",
    "        db = (1/m) * np.sum((y_hat - y))\n",
    "        b = b - learning_rate * db\n",
    "        costHistory[i] = cost\n",
    "        \n",
    "    return W, b, costHistory"
   ]
  },
  {
   "cell_type": "code",
   "execution_count": 9,
   "metadata": {},
   "outputs": [
    {
     "name": "stdout",
     "output_type": "stream",
     "text": [
      "X before normalize :\n",
      "[[2.104e+03 3.000e+00]\n",
      " [1.600e+03 3.000e+00]\n",
      " [2.400e+03 3.000e+00]\n",
      " [1.416e+03 2.000e+00]\n",
      " [3.000e+03 4.000e+00]\n",
      " [1.985e+03 4.000e+00]\n",
      " [1.534e+03 3.000e+00]\n",
      " [1.427e+03 3.000e+00]\n",
      " [1.380e+03 3.000e+00]\n",
      " [1.494e+03 3.000e+00]]\n",
      "mu : [2000.68085106    3.17021277]\n",
      "sigma : [3626.    4.]\n",
      "X after normalize :\n",
      "[[ 0.02849397 -0.04255319]\n",
      " [-0.11050217 -0.04255319]\n",
      " [ 0.11012663 -0.04255319]\n",
      " [-0.16124679 -0.29255319]\n",
      " [ 0.27559822  0.20744681]\n",
      " [-0.00432456  0.20744681]\n",
      " [-0.12870404 -0.04255319]\n",
      " [-0.15821314 -0.04255319]\n",
      " [-0.17117508 -0.04255319]\n",
      " [-0.13973548 -0.04255319]]\n",
      "Best Parameter :\n",
      "W = \n",
      "[[479850.27934173]\n",
      " [ -3153.23386323]]\n",
      "b = \n",
      "[[340412.65957447]]\n",
      "Predict room price with size 1650 and 3 room \n",
      "size_norm : -0.09671286570982619\n",
      "br_norm : -0.04255319148936165\n",
      "price : [[294139.14411206]]\n"
     ]
    },
    {
     "name": "stderr",
     "output_type": "stream",
     "text": [
      "C:\\Users\\ekoru\\Anaconda3\\lib\\site-packages\\ipykernel_launcher.py:5: FutureWarning: Method .as_matrix will be removed in a future version. Use .values instead.\n",
      "  \"\"\"\n"
     ]
    },
    {
     "data": {
      "text/plain": [
       "[<matplotlib.lines.Line2D at 0x13542866cc0>]"
      ]
     },
     "execution_count": 9,
     "metadata": {},
     "output_type": "execute_result"
    },
    {
     "data": {
      "image/png": "[encoded data removed]",
      "text/plain": [
       "<Figure size 432x288 with 1 Axes>"
      ]
     },
     "metadata": {},
     "output_type": "display_data"
    }
   ],
   "source": [
    "# Load dataset\n",
    "path = os.getcwd()\n",
    "data = pd.read_csv(path + \"/Dataset/ex1data2.txt\", sep=\",\", header=None)\n",
    "data.columns = [\"x1\", \"x2\", \"y\"]\n",
    "dataset = data.as_matrix(columns=None)\n",
    "# print(dataset)\n",
    "\n",
    "# Get number of dataset\n",
    "m, column = dataset.shape\n",
    "n = column - 1\n",
    "\n",
    "# Get input x\n",
    "# m = 5\n",
    "X = np.zeros((m,n), dtype=float)\n",
    "X[:,0:n] = dataset[0:m,0:n]\n",
    "\n",
    "print(\"X before normalize :\")\n",
    "print(X[0:10,:])\n",
    "\n",
    "X, mu, sigma = featureNormalize(X, n)\n",
    "\n",
    "print(\"mu :\", mu)\n",
    "print(\"sigma :\", sigma)\n",
    "print(\"X after normalize :\")\n",
    "print(X[0:10,:])\n",
    "\n",
    "# Get input y\n",
    "y = np.zeros((m,1), dtype=float)\n",
    "y[:,0] = dataset[0:m,n]\n",
    "\n",
    "W, b = initializeParameter(n)\n",
    "\n",
    "iterations = 400\n",
    "learning_rate = 0.3\n",
    "\n",
    "W, b, costHistory = gradientDescentMulti(X, y, W, b, learning_rate, iterations)\n",
    "\n",
    "print(\"Best Parameter :\")\n",
    "print(\"W = \")\n",
    "print(W)\n",
    "print(\"b = \")\n",
    "print(b)\n",
    "\n",
    "print(\"Predict room price with size 1650 and 3 room \")\n",
    "size_norm = (1650 - mu[0]) / sigma[0]\n",
    "br_norm = (3 - mu[1]) / sigma[1]\n",
    "price = predict(np.array([[size_norm, br_norm]]), W, b)\n",
    "\n",
    "print(\"size_norm :\", size_norm)\n",
    "print(\"br_norm :\", br_norm)\n",
    "print(\"price :\", price)\n",
    "\n",
    "fig2 = plt.figure()\n",
    "plt.plot(np.arange(iterations), costHistory)"
   ]
  },
  {
   "cell_type": "code",
   "execution_count": null,
   "metadata": {},
   "outputs": [],
   "source": []
  },
  {
   "cell_type": "code",
   "execution_count": null,
   "metadata": {},
   "outputs": [],
   "source": []
  }
 ],
 "metadata": {
  "kernelspec": {
   "display_name": "Python 3",
   "language": "python",
   "name": "python3"
  },
  "language_info": {
   "codemirror_mode": {
    "name": "ipython",
    "version": 3
   },
   "file_extension": ".py",
   "mimetype": "text/x-python",
   "name": "python",
   "nbconvert_exporter": "python",
   "pygments_lexer": "ipython3",
   "version": "3.6.5"
  }
 },
 "nbformat": 4,
 "nbformat_minor": 2
}
