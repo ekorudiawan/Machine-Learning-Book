{
 "cells": [
  {
   "cell_type": "markdown",
   "metadata": {},
   "source": [
    "# Linear Regression"
   ]
  },
  {
   "cell_type": "code",
   "execution_count": 77,
   "metadata": {},
   "outputs": [],
   "source": [
    "import os\n",
    "import pandas as pd\n",
    "import numpy as np\n",
    "import matplotlib.pyplot as plt"
   ]
  },
  {
   "cell_type": "code",
   "execution_count": 78,
   "metadata": {},
   "outputs": [],
   "source": [
    "def initializeParameter(n):\n",
    "    w = np.zeros((n,1), dtype=float)\n",
    "    b = np.zeros((1,1), dtype=float)\n",
    "    return w, b"
   ]
  },
  {
   "cell_type": "code",
   "execution_count": 79,
   "metadata": {},
   "outputs": [],
   "source": [
    "def computeCost(X, y, w, b):\n",
    "    m, _= y.shape\n",
    "    y_hat = np.zeros(y.shape)\n",
    "    y_hat = np.dot(X, w) + b\n",
    "    cost = (1/(2*m)) * np.sum(np.power(y_hat - y, 2))\n",
    "    return cost, y_hat"
   ]
  },
  {
   "cell_type": "code",
   "execution_count": 80,
   "metadata": {},
   "outputs": [],
   "source": [
    "def gradientDescent(X, y, w, b, learning_rate, iterations):\n",
    "    m, _ = y.shape\n",
    "    y_hat = np.zeros(y.shape)\n",
    "    costHistory = np.zeros((iterations), dtype=float)\n",
    "    \n",
    "    for i in range(0, iterations):\n",
    "        cost, y_hat = computeCost(X, y, w, b)\n",
    "        dw = (2/m) * np.sum((y_hat - y) * X)\n",
    "        db = (2/m) * np.sum((y_hat - y))\n",
    "        w = w - learning_rate * dw\n",
    "        b = b - learning_rate * db\n",
    "        costHistory[i] = cost\n",
    "        \n",
    "    return w, b, costHistory"
   ]
  },
  {
   "cell_type": "code",
   "execution_count": 88,
   "metadata": {},
   "outputs": [
    {
     "name": "stdout",
     "output_type": "stream",
     "text": [
      "Best parameter : w =  [[0.81580225]] b =  [[-0.12980522]]\n"
     ]
    },
    {
     "name": "stderr",
     "output_type": "stream",
     "text": [
      "C:\\Users\\ekoru\\Anaconda3\\lib\\site-packages\\ipykernel_launcher.py:5: FutureWarning: Method .as_matrix will be removed in a future version. Use .values instead.\n",
      "  \"\"\"\n"
     ]
    },
    {
     "data": {
      "text/plain": [
       "[<matplotlib.lines.Line2D at 0x25ece0ac9e8>]"
      ]
     },
     "execution_count": 88,
     "metadata": {},
     "output_type": "execute_result"
    },
    {
     "data": {
      "image/png": "[encoded data removed]",
      "text/plain": [
       "<Figure size 432x288 with 1 Axes>"
      ]
     },
     "metadata": {},
     "output_type": "display_data"
    },
    {
     "data": {
      "image/png": "[encoded data removed]",
      "text/plain": [
       "<Figure size 432x288 with 1 Axes>"
      ]
     },
     "metadata": {},
     "output_type": "display_data"
    }
   ],
   "source": [
    "# Load dataset\n",
    "path = os.getcwd()\n",
    "data = pd.read_csv(path + \"/Dataset/ex1data1.txt\", sep=\",\", header=None)\n",
    "data.columns = [\"x\", \"y\"]\n",
    "dataset = data.as_matrix(columns=None)\n",
    "\n",
    "# Get number of dataset\n",
    "m, column = dataset.shape\n",
    "n = column - 1\n",
    "\n",
    "# Get input x\n",
    "X = np.zeros((m,1), dtype=float)\n",
    "X[:,0] = dataset[:,0]\n",
    "\n",
    "# Get input y\n",
    "y = np.zeros((m,1), dtype=float)\n",
    "y[:,0] = dataset[:,1]\n",
    "\n",
    "# Plot data using matplotlib\n",
    "fig = plt.figure()\n",
    "plt.plot(X, y, 'ro')\n",
    "\n",
    "w, b = initializeParameter(n)\n",
    "cost, _ = computeCost(X, y, w, b)\n",
    "\n",
    "iterations = 15\n",
    "learning_rate = 0.01\n",
    "\n",
    "w, b, costHistory = gradientDescent(X, y, w, b, learning_rate, iterations)\n",
    "\n",
    "print(\"Best parameter : w = \", w, \"b = \", b)\n",
    "\n",
    "_, y_hat = computeCost(X, y, w, b)\n",
    "\n",
    "plt.plot(X, y_hat)\n",
    "\n",
    "fig2 = plt.figure()\n",
    "plt.plot(np.arange(iterations), costHistory)\n"
   ]
  },
  {
   "cell_type": "code",
   "execution_count": null,
   "metadata": {},
   "outputs": [],
   "source": []
  }
 ],
 "metadata": {
  "kernelspec": {
   "display_name": "Python 3",
   "language": "python",
   "name": "python3"
  },
  "language_info": {
   "codemirror_mode": {
    "name": "ipython",
    "version": 3
   },
   "file_extension": ".py",
   "mimetype": "text/x-python",
   "name": "python",
   "nbconvert_exporter": "python",
   "pygments_lexer": "ipython3",
   "version": "3.6.5"
  }
 },
 "nbformat": 4,
 "nbformat_minor": 2
}
